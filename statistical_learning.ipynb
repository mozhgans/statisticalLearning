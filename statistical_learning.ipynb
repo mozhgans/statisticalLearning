{
  "nbformat": 4,
  "nbformat_minor": 0,
  "metadata": {
    "colab": {
      "name": "statistical learning.ipynb",
      "provenance": [],
      "authorship_tag": "ABX9TyOIoOP8NPurJY+3C+jexf5z",
      "include_colab_link": true
    },
    "kernelspec": {
      "name": "python3",
      "display_name": "Python 3"
    }
  },
  "cells": [
    {
      "cell_type": "markdown",
      "metadata": {
        "id": "view-in-github",
        "colab_type": "text"
      },
      "source": [
        "<a href=\"https://colab.research.google.com/github/mozhgans/statisticalLearning/blob/main/statistical_learning.ipynb\" target=\"_parent\"><img src=\"https://colab.research.google.com/assets/colab-badge.svg\" alt=\"Open In Colab\"/></a>"
      ]
    },
    {
      "cell_type": "code",
      "metadata": {
        "id": "6SUQ46n-x8uj"
      },
      "source": [
        "# This Python 3 environment comes with many helpful analytics libraries installed\r\n",
        "# It is defined by the kaggle/python docker image: https://github.com/kaggle/docker-python\r\n",
        "# For example, here's several helpful packages to load in \r\n",
        "\r\n",
        "# import libraries\r\n",
        "import pandas as pd\r\n",
        "import numpy as np\r\n",
        "import seaborn as sns\r\n",
        "import matplotlib.pyplot as plt\r\n",
        "from pandas import plotting\r\n",
        "from scipy import stats\r\n",
        "plt.style.use(\"ggplot\")\r\n",
        "import warnings\r\n",
        "warnings.filterwarnings(\"ignore\")\r\n",
        "from scipy import stats\r\n",
        "\r\n",
        "# Input data files are available in the \"../input/\" directory.\r\n",
        "# For example, running this (by clicking run or pressing Shift+Enter) will list the files in the input directory\r\n",
        "\r\n",
        "#import os\r\n",
        "#print(os.listdir('/content/data (1).csv'))\r\n",
        "\r\n",
        "# Any results you write to the current directory are saved as output."
      ],
      "execution_count": 6,
      "outputs": []
    },
    {
      "cell_type": "code",
      "metadata": {
        "id": "e-HpB7S2yufP"
      },
      "source": [
        "# read data as pandas data frame\r\n",
        "data = pd.read_csv(\"/content/data (1).csv\")\r\n",
        "data = data.drop(['Unnamed: 32','id'],axis = 1)"
      ],
      "execution_count": 5,
      "outputs": []
    },
    {
      "cell_type": "code",
      "metadata": {
        "colab": {
          "base_uri": "https://localhost:8080/"
        },
        "id": "2YzPVDNvy2yu",
        "outputId": "c901a590-d3ab-430a-a8b7-1adf91bc1757"
      },
      "source": [
        "# quick look to data\r\n",
        "data.head()\r\n",
        "data.shape # (569, 31)\r\n",
        "data.columns "
      ],
      "execution_count": 7,
      "outputs": [
        {
          "output_type": "execute_result",
          "data": {
            "text/plain": [
              "Index(['diagnosis', 'radius_mean', 'texture_mean', 'perimeter_mean',\n",
              "       'area_mean', 'smoothness_mean', 'compactness_mean', 'concavity_mean',\n",
              "       'concave points_mean', 'symmetry_mean', 'fractal_dimension_mean',\n",
              "       'radius_se', 'texture_se', 'perimeter_se', 'area_se', 'smoothness_se',\n",
              "       'compactness_se', 'concavity_se', 'concave points_se', 'symmetry_se',\n",
              "       'fractal_dimension_se', 'radius_worst', 'texture_worst',\n",
              "       'perimeter_worst', 'area_worst', 'smoothness_worst',\n",
              "       'compactness_worst', 'concavity_worst', 'concave points_worst',\n",
              "       'symmetry_worst', 'fractal_dimension_worst'],\n",
              "      dtype='object')"
            ]
          },
          "metadata": {
            "tags": []
          },
          "execution_count": 7
        }
      ]
    },
    {
      "cell_type": "markdown",
      "metadata": {
        "id": "V5uisb9SzCIJ"
      },
      "source": [
        "Histogram"
      ]
    },
    {
      "cell_type": "code",
      "metadata": {
        "colab": {
          "base_uri": "https://localhost:8080/",
          "height": 316
        },
        "id": "ddmwxwdBy7ig",
        "outputId": "bf0476eb-46dc-4897-ac1e-8831a61ca234"
      },
      "source": [
        "m = plt.hist(data[data[\"diagnosis\"] == \"M\"].radius_mean,bins=30,fc = (1,0,0,0.5),label = \"Malignant\")\r\n",
        "b = plt.hist(data[data[\"diagnosis\"] == \"B\"].radius_mean,bins=30,fc = (0,1,0,0.5),label = \"Bening\")\r\n",
        "plt.legend()\r\n",
        "plt.xlabel(\"Radius Mean Values\")\r\n",
        "plt.ylabel(\"Frequency\")\r\n",
        "plt.title(\"Histogram of Radius Mean for Bening and Malignant Tumors\")\r\n",
        "plt.show()\r\n",
        "frequent_malignant_radius_mean = m[0].max()\r\n",
        "index_frequent_malignant_radius_mean = list(m[0]).index(frequent_malignant_radius_mean)\r\n",
        "most_frequent_malignant_radius_mean = m[1][index_frequent_malignant_radius_mean]\r\n",
        "print(\"Most frequent malignant radius mean is: \",most_frequent_malignant_radius_mean)"
      ],
      "execution_count": 8,
      "outputs": [
        {
          "output_type": "display_data",
          "data": {
            "image/png": "[encoded data removed]",
            "text/plain": [
              "<Figure size 432x288 with 1 Axes>"
            ]
          },
          "metadata": {
            "tags": []
          }
        },
        {
          "output_type": "stream",
          "text": [
            "Most frequent malignant radius mean is:  20.101999999999997\n"
          ],
          "name": "stdout"
        }
      ]
    }
  ]
}